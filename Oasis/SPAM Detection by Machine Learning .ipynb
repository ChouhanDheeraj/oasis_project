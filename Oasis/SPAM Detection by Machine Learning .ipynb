{
 "cells": [
  {
   "cell_type": "code",
   "execution_count": 38,
   "id": "492614da",
   "metadata": {},
   "outputs": [],
   "source": [
    "import pandas as pd\n",
    "import seaborn as sns\n",
    "import string \n",
    "from nltk.corpus import stopwords\n",
    "from sklearn.model_selection import train_test_split\n",
    "from sklearn.preprocessing import LabelEncoder\n",
    "from sklearn.naive_bayes import MultinomialNB\n",
    "from sklearn.metrics import accuracy_score,r2_score\n",
    "from sklearn.svm import SVC"
   ]
  },
  {
   "cell_type": "code",
   "execution_count": 39,
   "id": "806e9e51",
   "metadata": {},
   "outputs": [],
   "source": [
    "df  = pd.read_csv('spam.csv',encoding='latin-1')"
   ]
  },
  {
   "cell_type": "markdown",
   "id": "a1da0fb8",
   "metadata": {},
   "source": [
    "# DataFrame "
   ]
  },
  {
   "cell_type": "code",
   "execution_count": 40,
   "id": "abd06970",
   "metadata": {},
   "outputs": [
    {
     "data": {
      "text/html": [
       "<div>\n",
       "<style scoped>\n",
       "    .dataframe tbody tr th:only-of-type {\n",
       "        vertical-align: middle;\n",
       "    }\n",
       "\n",
       "    .dataframe tbody tr th {\n",
       "        vertical-align: top;\n",
       "    }\n",
       "\n",
       "    .dataframe thead th {\n",
       "        text-align: right;\n",
       "    }\n",
       "</style>\n",
       "<table border=\"1\" class=\"dataframe\">\n",
       "  <thead>\n",
       "    <tr style=\"text-align: right;\">\n",
       "      <th></th>\n",
       "      <th>v1</th>\n",
       "      <th>v2</th>\n",
       "      <th>Unnamed: 2</th>\n",
       "      <th>Unnamed: 3</th>\n",
       "      <th>Unnamed: 4</th>\n",
       "    </tr>\n",
       "  </thead>\n",
       "  <tbody>\n",
       "    <tr>\n",
       "      <th>0</th>\n",
       "      <td>ham</td>\n",
       "      <td>Go until jurong point, crazy.. Available only ...</td>\n",
       "      <td>NaN</td>\n",
       "      <td>NaN</td>\n",
       "      <td>NaN</td>\n",
       "    </tr>\n",
       "    <tr>\n",
       "      <th>1</th>\n",
       "      <td>ham</td>\n",
       "      <td>Ok lar... Joking wif u oni...</td>\n",
       "      <td>NaN</td>\n",
       "      <td>NaN</td>\n",
       "      <td>NaN</td>\n",
       "    </tr>\n",
       "    <tr>\n",
       "      <th>2</th>\n",
       "      <td>spam</td>\n",
       "      <td>Free entry in 2 a wkly comp to win FA Cup fina...</td>\n",
       "      <td>NaN</td>\n",
       "      <td>NaN</td>\n",
       "      <td>NaN</td>\n",
       "    </tr>\n",
       "    <tr>\n",
       "      <th>3</th>\n",
       "      <td>ham</td>\n",
       "      <td>U dun say so early hor... U c already then say...</td>\n",
       "      <td>NaN</td>\n",
       "      <td>NaN</td>\n",
       "      <td>NaN</td>\n",
       "    </tr>\n",
       "    <tr>\n",
       "      <th>4</th>\n",
       "      <td>ham</td>\n",
       "      <td>Nah I don't think he goes to usf, he lives aro...</td>\n",
       "      <td>NaN</td>\n",
       "      <td>NaN</td>\n",
       "      <td>NaN</td>\n",
       "    </tr>\n",
       "  </tbody>\n",
       "</table>\n",
       "</div>"
      ],
      "text/plain": [
       "     v1                                                 v2 Unnamed: 2   \n",
       "0   ham  Go until jurong point, crazy.. Available only ...        NaN  \\\n",
       "1   ham                      Ok lar... Joking wif u oni...        NaN   \n",
       "2  spam  Free entry in 2 a wkly comp to win FA Cup fina...        NaN   \n",
       "3   ham  U dun say so early hor... U c already then say...        NaN   \n",
       "4   ham  Nah I don't think he goes to usf, he lives aro...        NaN   \n",
       "\n",
       "  Unnamed: 3 Unnamed: 4  \n",
       "0        NaN        NaN  \n",
       "1        NaN        NaN  \n",
       "2        NaN        NaN  \n",
       "3        NaN        NaN  \n",
       "4        NaN        NaN  "
      ]
     },
     "execution_count": 40,
     "metadata": {},
     "output_type": "execute_result"
    }
   ],
   "source": [
    "df.head()"
   ]
  },
  {
   "cell_type": "code",
   "execution_count": 42,
   "id": "f5292c78",
   "metadata": {},
   "outputs": [],
   "source": [
    "df= df[['v1','v2']]\n",
    "df.columns = ['Class','Text']"
   ]
  },
  {
   "cell_type": "markdown",
   "id": "a54c7b0d",
   "metadata": {},
   "source": [
    "# SPAM and NOT SPAM DISTRIBUTION"
   ]
  },
  {
   "cell_type": "code",
   "execution_count": 43,
   "id": "9ca925e1",
   "metadata": {},
   "outputs": [
    {
     "data": {
      "text/plain": [
       "<AxesSubplot:xlabel='Class', ylabel='count'>"
      ]
     },
     "execution_count": 43,
     "metadata": {},
     "output_type": "execute_result"
    },
    {
     "data": {
      "image/png": "[encoded data removed]",
      "text/plain": [
       "<Figure size 432x288 with 1 Axes>"
      ]
     },
     "metadata": {
      "needs_background": "light"
     },
     "output_type": "display_data"
    }
   ],
   "source": [
    "sns.countplot(x = df['Class'])"
   ]
  },
  {
   "cell_type": "markdown",
   "id": "899046cd",
   "metadata": {},
   "source": [
    "# Preprocessing \n"
   ]
  },
  {
   "cell_type": "markdown",
   "id": "7d259929",
   "metadata": {},
   "source": [
    "### Text Cleaing "
   ]
  },
  {
   "cell_type": "code",
   "execution_count": 44,
   "id": "6e0e7541",
   "metadata": {},
   "outputs": [],
   "source": [
    "def transform_message(message):\n",
    "    message_not_punc = [] # Message without punctuation\n",
    "    i = 0\n",
    "    for punctuation in message:\n",
    "        if punctuation not in string.punctuation:\n",
    "            message_not_punc.append(punctuation.lower())\n",
    "    # Join words again to form the string.\n",
    "    message_not_punc = ''.join(message_not_punc) \n",
    "\n",
    "    # Remove any stopwords for message_not_punc, but first we should     \n",
    "    # to transform this into the list.\n",
    "    message_clean = list(message_not_punc.split(\" \"))\n",
    "    while i <= len(message_clean):\n",
    "        for mess in message_clean:\n",
    "            if mess.lower()  in stopwords.words('english'):\n",
    "                message_clean.remove(mess.lower())\n",
    "        i =i +1\n",
    "    return  message_clean"
   ]
  },
  {
   "cell_type": "code",
   "execution_count": 45,
   "id": "cb995e98",
   "metadata": {},
   "outputs": [
    {
     "name": "stderr",
     "output_type": "stream",
     "text": [
      "C:\\Users\\DHEERA~1\\AppData\\Local\\Temp/ipykernel_18496/3751432763.py:1: SettingWithCopyWarning: \n",
      "A value is trying to be set on a copy of a slice from a DataFrame.\n",
      "Try using .loc[row_indexer,col_indexer] = value instead\n",
      "\n",
      "See the caveats in the documentation: https://pandas.pydata.org/pandas-docs/stable/user_guide/indexing.html#returning-a-view-versus-a-copy\n",
      "  df['Clean text'] = df['Text'].apply(transform_message)\n"
     ]
    }
   ],
   "source": [
    "df['Clean text'] = df['Text'].apply(transform_message)"
   ]
  },
  {
   "cell_type": "code",
   "execution_count": 46,
   "id": "561a1c35",
   "metadata": {},
   "outputs": [
    {
     "data": {
      "text/plain": [
       "0       [go, jurong, point, crazy, available, bugis, n...\n",
       "1                          [ok, lar, joking, wif, u, oni]\n",
       "2       [free, entry, 2, wkly, comp, win, fa, cup, fin...\n",
       "3           [u, dun, say, early, hor, u, c, already, say]\n",
       "4       [nah, dont, think, goes, usf, lives, around, t...\n",
       "                              ...                        \n",
       "5567    [2nd, time, tried, 2, contact, u, u, å£750, po...\n",
       "5568                   [ì, b, going, esplanade, fr, home]\n",
       "5569                   [pity, , mood, soany, suggestions]\n",
       "5570    [guy, bitching, acted, like, id, interested, b...\n",
       "5571                                   [rofl, true, name]\n",
       "Name: Clean text, Length: 5572, dtype: object"
      ]
     },
     "execution_count": 46,
     "metadata": {},
     "output_type": "execute_result"
    }
   ],
   "source": [
    "df['Clean text']"
   ]
  },
  {
   "cell_type": "markdown",
   "id": "de037dd9",
   "metadata": {},
   "source": [
    "# Text Vectorization "
   ]
  },
  {
   "cell_type": "code",
   "execution_count": 14,
   "id": "71befc2e",
   "metadata": {},
   "outputs": [],
   "source": [
    "from sklearn.feature_extraction.text import CountVectorizer\n",
    "from sklearn.feature_extraction.text import TfidfVectorizer,TfidfTransformer\n"
   ]
  },
  {
   "cell_type": "code",
   "execution_count": 15,
   "id": "ee2b9b19",
   "metadata": {},
   "outputs": [],
   "source": [
    "vectorization = CountVectorizer(analyzer=transform_message)\n",
    "X = vectorization.fit_transform(df[\"Clean text\"])"
   ]
  },
  {
   "cell_type": "code",
   "execution_count": 16,
   "id": "99c090f2",
   "metadata": {},
   "outputs": [],
   "source": [
    "label = LabelEncoder()\n",
    "Y  = label.fit_transform(df['Class'])\n"
   ]
  },
  {
   "cell_type": "code",
   "execution_count": 17,
   "id": "16987ace",
   "metadata": {},
   "outputs": [],
   "source": [
    "tfidf_transformer = TfidfTransformer()\n",
    "x_tfidf = tfidf_transformer.fit_transform(X)\n"
   ]
  },
  {
   "cell_type": "markdown",
   "id": "72e32555",
   "metadata": {},
   "source": [
    "# Split dataset into train and test "
   ]
  },
  {
   "cell_type": "code",
   "execution_count": 20,
   "id": "deb9cd79",
   "metadata": {},
   "outputs": [],
   "source": [
    " x_train, x_test, y_train, y_test = train_test_split(x_tfidf,Y, test_size=0.3,random_state = 50, stratify=Y)"
   ]
  },
  {
   "cell_type": "markdown",
   "id": "7ae683e2",
   "metadata": {},
   "source": [
    "# Model Building "
   ]
  },
  {
   "cell_type": "code",
   "execution_count": 21,
   "id": "74cc1f83",
   "metadata": {},
   "outputs": [
    {
     "data": {
      "text/plain": [
       "MultinomialNB()"
      ]
     },
     "execution_count": 21,
     "metadata": {},
     "output_type": "execute_result"
    }
   ],
   "source": [
    "naive_bayes = MultinomialNB()\n",
    "naive_bayes.fit(x_train, y_train)"
   ]
  },
  {
   "cell_type": "code",
   "execution_count": 32,
   "id": "38e2ee4e",
   "metadata": {},
   "outputs": [
    {
     "name": "stdout",
     "output_type": "stream",
     "text": [
      " Naice Bayes Accuracy : 0.866\n",
      " Naice Bayes model score : -0.155\n"
     ]
    }
   ],
   "source": [
    "print(f' Naice Bayes Accuracy : {accuracy_score(y_test, naive_bayes.predict(x_test)):.3f}')\n",
    "print(f' Naice Bayes model score : {r2_score(Y, naive_bayes.predict(x_tfidf)):.3f}')"
   ]
  },
  {
   "cell_type": "code",
   "execution_count": 23,
   "id": "bf97690a",
   "metadata": {},
   "outputs": [],
   "source": [
    "# Trying Different Model"
   ]
  },
  {
   "cell_type": "code",
   "execution_count": 36,
   "id": "8ba4cef6",
   "metadata": {},
   "outputs": [
    {
     "name": "stdout",
     "output_type": "stream",
     "text": [
      "SVC model Accuracy : 0.898\n",
      " Naice Bayes model score : 0.737\n",
      "SVC model Accuracy : 0.898\n",
      " Naice Bayes model score : 0.737\n",
      "SVC model Accuracy : 0.898\n",
      " Naice Bayes model score : 0.737\n",
      "SVC model Accuracy : 0.868\n",
      " Naice Bayes model score : 0.031\n"
     ]
    }
   ],
   "source": [
    "kernal = ['linear', 'poly', 'rbf', 'sigmoid']\n",
    "for kernal in kernal:\n",
    "    svc = SVC(kernel=kernal).fit(x_train, y_train)\n",
    "    print(f'SVC model Accuracy : {accuracy_score(y_test, svc.predict(x_test)):.3f}')\n",
    "    print(f' Naice Bayes model score : {r2_score(Y, svc.predict(x_tfidf)):.3f}')"
   ]
  },
  {
   "cell_type": "markdown",
   "id": "3e3d5dd0",
   "metadata": {},
   "source": [
    "# Train Model without Text Cleaning "
   ]
  },
  {
   "cell_type": "code",
   "execution_count": 54,
   "id": "6d6c8ab7",
   "metadata": {},
   "outputs": [],
   "source": [
    "X_train, X_test, y_train, y_test = train_test_split(df['Text'], df['Class'], test_size=0.3,random_state = 50, stratify=df['Class'])"
   ]
  },
  {
   "cell_type": "code",
   "execution_count": 55,
   "id": "2e5c71fc",
   "metadata": {},
   "outputs": [],
   "source": [
    "bow = CountVectorizer(stop_words='english')"
   ]
  },
  {
   "cell_type": "code",
   "execution_count": 56,
   "id": "f68fbea4",
   "metadata": {},
   "outputs": [
    {
     "data": {
      "text/plain": [
       "CountVectorizer(stop_words='english')"
      ]
     },
     "execution_count": 56,
     "metadata": {},
     "output_type": "execute_result"
    }
   ],
   "source": [
    "bow.fit(X_train)"
   ]
  },
  {
   "cell_type": "code",
   "execution_count": 58,
   "id": "8c81c2eb",
   "metadata": {},
   "outputs": [],
   "source": [
    "X_train = bow.transform(X_train)\n",
    "X_test = bow.transform(X_test)"
   ]
  },
  {
   "cell_type": "code",
   "execution_count": 59,
   "id": "b6c98242",
   "metadata": {},
   "outputs": [
    {
     "data": {
      "text/plain": [
       "MultinomialNB()"
      ]
     },
     "execution_count": 59,
     "metadata": {},
     "output_type": "execute_result"
    }
   ],
   "source": [
    "naive_bayes = MultinomialNB()\n",
    "naive_bayes.fit(X_train, y_train)"
   ]
  },
  {
   "cell_type": "code",
   "execution_count": 88,
   "id": "c1e327e3",
   "metadata": {},
   "outputs": [
    {
     "name": "stdout",
     "output_type": "stream",
     "text": [
      "Naice Bayes Accuracy : 98.32535885167464 %\n"
     ]
    }
   ],
   "source": [
    "print(f'Naice Bayes Accuracy : {accuracy_score(y_test, naive_bayes.predict(X_test))*100} %')\n"
   ]
  },
  {
   "cell_type": "markdown",
   "id": "e324eca0",
   "metadata": {},
   "source": [
    "# Insigts "
   ]
  },
  {
   "cell_type": "markdown",
   "id": "3de8bb43",
   "metadata": {},
   "source": [
    "##### We found that if we build model without cleaning text we got more accuracy. \n",
    "##### Here are some reasons:\n",
    "##### 1) The lenght of text in text columns is less\n",
    "##### 2) Length of dataset is small for training.\n",
    "##### 3) Max accuracy obtained from SVC model. So using svc will give better results.\n"
   ]
  },
  {
   "cell_type": "code",
   "execution_count": null,
   "id": "b62637a7",
   "metadata": {},
   "outputs": [],
   "source": []
  },
  {
   "cell_type": "code",
   "execution_count": null,
   "id": "c0853c21",
   "metadata": {},
   "outputs": [],
   "source": []
  },
  {
   "cell_type": "code",
   "execution_count": null,
   "id": "f629145d",
   "metadata": {},
   "outputs": [],
   "source": []
  }
 ],
 "metadata": {
  "kernelspec": {
   "display_name": "Python 3 (ipykernel)",
   "language": "python",
   "name": "python3"
  },
  "language_info": {
   "codemirror_mode": {
    "name": "ipython",
    "version": 3
   },
   "file_extension": ".py",
   "mimetype": "text/x-python",
   "name": "python",
   "nbconvert_exporter": "python",
   "pygments_lexer": "ipython3",
   "version": "3.9.4"
  }
 },
 "nbformat": 4,
 "nbformat_minor": 5
}
