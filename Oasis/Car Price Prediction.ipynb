{
 "cells": [
  {
   "cell_type": "code",
   "execution_count": 1,
   "id": "b9f8c4b8",
   "metadata": {},
   "outputs": [],
   "source": [
    "import pandas as pd\n",
    "import numpy as np\n",
    "from sklearn.preprocessing import LabelEncoder, StandardScaler\n",
    "from sklearn.model_selection  import cross_val_score \n",
    "from sklearn.metrics import mean_absolute_error,r2_score\n",
    "from sklearn.linear_model import LinearRegression,Ridge\n",
    "from sklearn.tree import DecisionTreeRegressor\n",
    "from sklearn.ensemble import RandomForestRegressor, GradientBoostingRegressor, AdaBoostRegressor\n",
    "from xgboost import XGBRegressor\n",
    "from lightgbm import LGBMRegressor\n"
   ]
  },
  {
   "cell_type": "code",
   "execution_count": 2,
   "id": "e424818d",
   "metadata": {},
   "outputs": [],
   "source": [
    "df = pd.read_csv('data.csv')"
   ]
  },
  {
   "cell_type": "markdown",
   "id": "875ff79f",
   "metadata": {},
   "source": [
    "# DataFrame"
   ]
  },
  {
   "cell_type": "code",
   "execution_count": 3,
   "id": "cc97f9d8",
   "metadata": {},
   "outputs": [
    {
     "data": {
      "text/html": [
       "<div>\n",
       "<style scoped>\n",
       "    .dataframe tbody tr th:only-of-type {\n",
       "        vertical-align: middle;\n",
       "    }\n",
       "\n",
       "    .dataframe tbody tr th {\n",
       "        vertical-align: top;\n",
       "    }\n",
       "\n",
       "    .dataframe thead th {\n",
       "        text-align: right;\n",
       "    }\n",
       "</style>\n",
       "<table border=\"1\" class=\"dataframe\">\n",
       "  <thead>\n",
       "    <tr style=\"text-align: right;\">\n",
       "      <th></th>\n",
       "      <th>car_ID</th>\n",
       "      <th>symboling</th>\n",
       "      <th>CarName</th>\n",
       "      <th>fueltype</th>\n",
       "      <th>aspiration</th>\n",
       "      <th>doornumber</th>\n",
       "      <th>carbody</th>\n",
       "      <th>drivewheel</th>\n",
       "      <th>enginelocation</th>\n",
       "      <th>wheelbase</th>\n",
       "      <th>...</th>\n",
       "      <th>enginesize</th>\n",
       "      <th>fuelsystem</th>\n",
       "      <th>boreratio</th>\n",
       "      <th>stroke</th>\n",
       "      <th>compressionratio</th>\n",
       "      <th>horsepower</th>\n",
       "      <th>peakrpm</th>\n",
       "      <th>citympg</th>\n",
       "      <th>highwaympg</th>\n",
       "      <th>price</th>\n",
       "    </tr>\n",
       "  </thead>\n",
       "  <tbody>\n",
       "    <tr>\n",
       "      <th>0</th>\n",
       "      <td>1</td>\n",
       "      <td>3</td>\n",
       "      <td>alfa-romero giulia</td>\n",
       "      <td>gas</td>\n",
       "      <td>std</td>\n",
       "      <td>two</td>\n",
       "      <td>convertible</td>\n",
       "      <td>rwd</td>\n",
       "      <td>front</td>\n",
       "      <td>88.6</td>\n",
       "      <td>...</td>\n",
       "      <td>130</td>\n",
       "      <td>mpfi</td>\n",
       "      <td>3.47</td>\n",
       "      <td>2.68</td>\n",
       "      <td>9.0</td>\n",
       "      <td>111</td>\n",
       "      <td>5000</td>\n",
       "      <td>21</td>\n",
       "      <td>27</td>\n",
       "      <td>13495.0</td>\n",
       "    </tr>\n",
       "    <tr>\n",
       "      <th>1</th>\n",
       "      <td>2</td>\n",
       "      <td>3</td>\n",
       "      <td>alfa-romero stelvio</td>\n",
       "      <td>gas</td>\n",
       "      <td>std</td>\n",
       "      <td>two</td>\n",
       "      <td>convertible</td>\n",
       "      <td>rwd</td>\n",
       "      <td>front</td>\n",
       "      <td>88.6</td>\n",
       "      <td>...</td>\n",
       "      <td>130</td>\n",
       "      <td>mpfi</td>\n",
       "      <td>3.47</td>\n",
       "      <td>2.68</td>\n",
       "      <td>9.0</td>\n",
       "      <td>111</td>\n",
       "      <td>5000</td>\n",
       "      <td>21</td>\n",
       "      <td>27</td>\n",
       "      <td>16500.0</td>\n",
       "    </tr>\n",
       "    <tr>\n",
       "      <th>2</th>\n",
       "      <td>3</td>\n",
       "      <td>1</td>\n",
       "      <td>alfa-romero Quadrifoglio</td>\n",
       "      <td>gas</td>\n",
       "      <td>std</td>\n",
       "      <td>two</td>\n",
       "      <td>hatchback</td>\n",
       "      <td>rwd</td>\n",
       "      <td>front</td>\n",
       "      <td>94.5</td>\n",
       "      <td>...</td>\n",
       "      <td>152</td>\n",
       "      <td>mpfi</td>\n",
       "      <td>2.68</td>\n",
       "      <td>3.47</td>\n",
       "      <td>9.0</td>\n",
       "      <td>154</td>\n",
       "      <td>5000</td>\n",
       "      <td>19</td>\n",
       "      <td>26</td>\n",
       "      <td>16500.0</td>\n",
       "    </tr>\n",
       "    <tr>\n",
       "      <th>3</th>\n",
       "      <td>4</td>\n",
       "      <td>2</td>\n",
       "      <td>audi 100 ls</td>\n",
       "      <td>gas</td>\n",
       "      <td>std</td>\n",
       "      <td>four</td>\n",
       "      <td>sedan</td>\n",
       "      <td>fwd</td>\n",
       "      <td>front</td>\n",
       "      <td>99.8</td>\n",
       "      <td>...</td>\n",
       "      <td>109</td>\n",
       "      <td>mpfi</td>\n",
       "      <td>3.19</td>\n",
       "      <td>3.40</td>\n",
       "      <td>10.0</td>\n",
       "      <td>102</td>\n",
       "      <td>5500</td>\n",
       "      <td>24</td>\n",
       "      <td>30</td>\n",
       "      <td>13950.0</td>\n",
       "    </tr>\n",
       "    <tr>\n",
       "      <th>4</th>\n",
       "      <td>5</td>\n",
       "      <td>2</td>\n",
       "      <td>audi 100ls</td>\n",
       "      <td>gas</td>\n",
       "      <td>std</td>\n",
       "      <td>four</td>\n",
       "      <td>sedan</td>\n",
       "      <td>4wd</td>\n",
       "      <td>front</td>\n",
       "      <td>99.4</td>\n",
       "      <td>...</td>\n",
       "      <td>136</td>\n",
       "      <td>mpfi</td>\n",
       "      <td>3.19</td>\n",
       "      <td>3.40</td>\n",
       "      <td>8.0</td>\n",
       "      <td>115</td>\n",
       "      <td>5500</td>\n",
       "      <td>18</td>\n",
       "      <td>22</td>\n",
       "      <td>17450.0</td>\n",
       "    </tr>\n",
       "  </tbody>\n",
       "</table>\n",
       "<p>5 rows × 26 columns</p>\n",
       "</div>"
      ],
      "text/plain": [
       "   car_ID  symboling                   CarName fueltype aspiration doornumber   \n",
       "0       1          3        alfa-romero giulia      gas        std        two  \\\n",
       "1       2          3       alfa-romero stelvio      gas        std        two   \n",
       "2       3          1  alfa-romero Quadrifoglio      gas        std        two   \n",
       "3       4          2               audi 100 ls      gas        std       four   \n",
       "4       5          2                audi 100ls      gas        std       four   \n",
       "\n",
       "       carbody drivewheel enginelocation  wheelbase  ...  enginesize   \n",
       "0  convertible        rwd          front       88.6  ...         130  \\\n",
       "1  convertible        rwd          front       88.6  ...         130   \n",
       "2    hatchback        rwd          front       94.5  ...         152   \n",
       "3        sedan        fwd          front       99.8  ...         109   \n",
       "4        sedan        4wd          front       99.4  ...         136   \n",
       "\n",
       "   fuelsystem  boreratio  stroke compressionratio horsepower  peakrpm citympg   \n",
       "0        mpfi       3.47    2.68              9.0        111     5000      21  \\\n",
       "1        mpfi       3.47    2.68              9.0        111     5000      21   \n",
       "2        mpfi       2.68    3.47              9.0        154     5000      19   \n",
       "3        mpfi       3.19    3.40             10.0        102     5500      24   \n",
       "4        mpfi       3.19    3.40              8.0        115     5500      18   \n",
       "\n",
       "   highwaympg    price  \n",
       "0          27  13495.0  \n",
       "1          27  16500.0  \n",
       "2          26  16500.0  \n",
       "3          30  13950.0  \n",
       "4          22  17450.0  \n",
       "\n",
       "[5 rows x 26 columns]"
      ]
     },
     "execution_count": 3,
     "metadata": {},
     "output_type": "execute_result"
    }
   ],
   "source": [
    "df.head()"
   ]
  },
  {
   "cell_type": "markdown",
   "id": "de25b0cd",
   "metadata": {},
   "source": [
    "### Checking null values in dataframe"
   ]
  },
  {
   "cell_type": "code",
   "execution_count": 4,
   "id": "937c6ad7",
   "metadata": {},
   "outputs": [
    {
     "data": {
      "text/plain": [
       "car_ID              0\n",
       "symboling           0\n",
       "CarName             0\n",
       "fueltype            0\n",
       "aspiration          0\n",
       "doornumber          0\n",
       "carbody             0\n",
       "drivewheel          0\n",
       "enginelocation      0\n",
       "wheelbase           0\n",
       "carlength           0\n",
       "carwidth            0\n",
       "carheight           0\n",
       "curbweight          0\n",
       "enginetype          0\n",
       "cylindernumber      0\n",
       "enginesize          0\n",
       "fuelsystem          0\n",
       "boreratio           0\n",
       "stroke              0\n",
       "compressionratio    0\n",
       "horsepower          0\n",
       "peakrpm             0\n",
       "citympg             0\n",
       "highwaympg          0\n",
       "price               0\n",
       "dtype: int64"
      ]
     },
     "execution_count": 4,
     "metadata": {},
     "output_type": "execute_result"
    }
   ],
   "source": [
    "df.isnull().sum()"
   ]
  },
  {
   "cell_type": "markdown",
   "id": "01115950",
   "metadata": {},
   "source": [
    "## Statistic of Fetaure columns"
   ]
  },
  {
   "cell_type": "code",
   "execution_count": 5,
   "id": "88cb9059",
   "metadata": {},
   "outputs": [
    {
     "data": {
      "text/html": [
       "<div>\n",
       "<style scoped>\n",
       "    .dataframe tbody tr th:only-of-type {\n",
       "        vertical-align: middle;\n",
       "    }\n",
       "\n",
       "    .dataframe tbody tr th {\n",
       "        vertical-align: top;\n",
       "    }\n",
       "\n",
       "    .dataframe thead th {\n",
       "        text-align: right;\n",
       "    }\n",
       "</style>\n",
       "<table border=\"1\" class=\"dataframe\">\n",
       "  <thead>\n",
       "    <tr style=\"text-align: right;\">\n",
       "      <th></th>\n",
       "      <th>car_ID</th>\n",
       "      <th>symboling</th>\n",
       "      <th>wheelbase</th>\n",
       "      <th>carlength</th>\n",
       "      <th>carwidth</th>\n",
       "      <th>carheight</th>\n",
       "      <th>curbweight</th>\n",
       "      <th>enginesize</th>\n",
       "      <th>boreratio</th>\n",
       "      <th>stroke</th>\n",
       "      <th>compressionratio</th>\n",
       "      <th>horsepower</th>\n",
       "      <th>peakrpm</th>\n",
       "      <th>citympg</th>\n",
       "      <th>highwaympg</th>\n",
       "      <th>price</th>\n",
       "    </tr>\n",
       "  </thead>\n",
       "  <tbody>\n",
       "    <tr>\n",
       "      <th>count</th>\n",
       "      <td>205.000000</td>\n",
       "      <td>205.000000</td>\n",
       "      <td>205.000000</td>\n",
       "      <td>205.000000</td>\n",
       "      <td>205.000000</td>\n",
       "      <td>205.000000</td>\n",
       "      <td>205.000000</td>\n",
       "      <td>205.000000</td>\n",
       "      <td>205.000000</td>\n",
       "      <td>205.000000</td>\n",
       "      <td>205.000000</td>\n",
       "      <td>205.000000</td>\n",
       "      <td>205.000000</td>\n",
       "      <td>205.000000</td>\n",
       "      <td>205.000000</td>\n",
       "      <td>205.000000</td>\n",
       "    </tr>\n",
       "    <tr>\n",
       "      <th>mean</th>\n",
       "      <td>103.000000</td>\n",
       "      <td>0.834146</td>\n",
       "      <td>98.756585</td>\n",
       "      <td>174.049268</td>\n",
       "      <td>65.907805</td>\n",
       "      <td>53.724878</td>\n",
       "      <td>2555.565854</td>\n",
       "      <td>126.907317</td>\n",
       "      <td>3.329756</td>\n",
       "      <td>3.255415</td>\n",
       "      <td>10.142537</td>\n",
       "      <td>104.117073</td>\n",
       "      <td>5125.121951</td>\n",
       "      <td>25.219512</td>\n",
       "      <td>30.751220</td>\n",
       "      <td>13276.710571</td>\n",
       "    </tr>\n",
       "    <tr>\n",
       "      <th>std</th>\n",
       "      <td>59.322565</td>\n",
       "      <td>1.245307</td>\n",
       "      <td>6.021776</td>\n",
       "      <td>12.337289</td>\n",
       "      <td>2.145204</td>\n",
       "      <td>2.443522</td>\n",
       "      <td>520.680204</td>\n",
       "      <td>41.642693</td>\n",
       "      <td>0.270844</td>\n",
       "      <td>0.313597</td>\n",
       "      <td>3.972040</td>\n",
       "      <td>39.544167</td>\n",
       "      <td>476.985643</td>\n",
       "      <td>6.542142</td>\n",
       "      <td>6.886443</td>\n",
       "      <td>7988.852332</td>\n",
       "    </tr>\n",
       "    <tr>\n",
       "      <th>min</th>\n",
       "      <td>1.000000</td>\n",
       "      <td>-2.000000</td>\n",
       "      <td>86.600000</td>\n",
       "      <td>141.100000</td>\n",
       "      <td>60.300000</td>\n",
       "      <td>47.800000</td>\n",
       "      <td>1488.000000</td>\n",
       "      <td>61.000000</td>\n",
       "      <td>2.540000</td>\n",
       "      <td>2.070000</td>\n",
       "      <td>7.000000</td>\n",
       "      <td>48.000000</td>\n",
       "      <td>4150.000000</td>\n",
       "      <td>13.000000</td>\n",
       "      <td>16.000000</td>\n",
       "      <td>5118.000000</td>\n",
       "    </tr>\n",
       "    <tr>\n",
       "      <th>25%</th>\n",
       "      <td>52.000000</td>\n",
       "      <td>0.000000</td>\n",
       "      <td>94.500000</td>\n",
       "      <td>166.300000</td>\n",
       "      <td>64.100000</td>\n",
       "      <td>52.000000</td>\n",
       "      <td>2145.000000</td>\n",
       "      <td>97.000000</td>\n",
       "      <td>3.150000</td>\n",
       "      <td>3.110000</td>\n",
       "      <td>8.600000</td>\n",
       "      <td>70.000000</td>\n",
       "      <td>4800.000000</td>\n",
       "      <td>19.000000</td>\n",
       "      <td>25.000000</td>\n",
       "      <td>7788.000000</td>\n",
       "    </tr>\n",
       "    <tr>\n",
       "      <th>50%</th>\n",
       "      <td>103.000000</td>\n",
       "      <td>1.000000</td>\n",
       "      <td>97.000000</td>\n",
       "      <td>173.200000</td>\n",
       "      <td>65.500000</td>\n",
       "      <td>54.100000</td>\n",
       "      <td>2414.000000</td>\n",
       "      <td>120.000000</td>\n",
       "      <td>3.310000</td>\n",
       "      <td>3.290000</td>\n",
       "      <td>9.000000</td>\n",
       "      <td>95.000000</td>\n",
       "      <td>5200.000000</td>\n",
       "      <td>24.000000</td>\n",
       "      <td>30.000000</td>\n",
       "      <td>10295.000000</td>\n",
       "    </tr>\n",
       "    <tr>\n",
       "      <th>75%</th>\n",
       "      <td>154.000000</td>\n",
       "      <td>2.000000</td>\n",
       "      <td>102.400000</td>\n",
       "      <td>183.100000</td>\n",
       "      <td>66.900000</td>\n",
       "      <td>55.500000</td>\n",
       "      <td>2935.000000</td>\n",
       "      <td>141.000000</td>\n",
       "      <td>3.580000</td>\n",
       "      <td>3.410000</td>\n",
       "      <td>9.400000</td>\n",
       "      <td>116.000000</td>\n",
       "      <td>5500.000000</td>\n",
       "      <td>30.000000</td>\n",
       "      <td>34.000000</td>\n",
       "      <td>16503.000000</td>\n",
       "    </tr>\n",
       "    <tr>\n",
       "      <th>max</th>\n",
       "      <td>205.000000</td>\n",
       "      <td>3.000000</td>\n",
       "      <td>120.900000</td>\n",
       "      <td>208.100000</td>\n",
       "      <td>72.300000</td>\n",
       "      <td>59.800000</td>\n",
       "      <td>4066.000000</td>\n",
       "      <td>326.000000</td>\n",
       "      <td>3.940000</td>\n",
       "      <td>4.170000</td>\n",
       "      <td>23.000000</td>\n",
       "      <td>288.000000</td>\n",
       "      <td>6600.000000</td>\n",
       "      <td>49.000000</td>\n",
       "      <td>54.000000</td>\n",
       "      <td>45400.000000</td>\n",
       "    </tr>\n",
       "  </tbody>\n",
       "</table>\n",
       "</div>"
      ],
      "text/plain": [
       "           car_ID   symboling   wheelbase   carlength    carwidth   carheight   \n",
       "count  205.000000  205.000000  205.000000  205.000000  205.000000  205.000000  \\\n",
       "mean   103.000000    0.834146   98.756585  174.049268   65.907805   53.724878   \n",
       "std     59.322565    1.245307    6.021776   12.337289    2.145204    2.443522   \n",
       "min      1.000000   -2.000000   86.600000  141.100000   60.300000   47.800000   \n",
       "25%     52.000000    0.000000   94.500000  166.300000   64.100000   52.000000   \n",
       "50%    103.000000    1.000000   97.000000  173.200000   65.500000   54.100000   \n",
       "75%    154.000000    2.000000  102.400000  183.100000   66.900000   55.500000   \n",
       "max    205.000000    3.000000  120.900000  208.100000   72.300000   59.800000   \n",
       "\n",
       "        curbweight  enginesize   boreratio      stroke  compressionratio   \n",
       "count   205.000000  205.000000  205.000000  205.000000        205.000000  \\\n",
       "mean   2555.565854  126.907317    3.329756    3.255415         10.142537   \n",
       "std     520.680204   41.642693    0.270844    0.313597          3.972040   \n",
       "min    1488.000000   61.000000    2.540000    2.070000          7.000000   \n",
       "25%    2145.000000   97.000000    3.150000    3.110000          8.600000   \n",
       "50%    2414.000000  120.000000    3.310000    3.290000          9.000000   \n",
       "75%    2935.000000  141.000000    3.580000    3.410000          9.400000   \n",
       "max    4066.000000  326.000000    3.940000    4.170000         23.000000   \n",
       "\n",
       "       horsepower      peakrpm     citympg  highwaympg         price  \n",
       "count  205.000000   205.000000  205.000000  205.000000    205.000000  \n",
       "mean   104.117073  5125.121951   25.219512   30.751220  13276.710571  \n",
       "std     39.544167   476.985643    6.542142    6.886443   7988.852332  \n",
       "min     48.000000  4150.000000   13.000000   16.000000   5118.000000  \n",
       "25%     70.000000  4800.000000   19.000000   25.000000   7788.000000  \n",
       "50%     95.000000  5200.000000   24.000000   30.000000  10295.000000  \n",
       "75%    116.000000  5500.000000   30.000000   34.000000  16503.000000  \n",
       "max    288.000000  6600.000000   49.000000   54.000000  45400.000000  "
      ]
     },
     "execution_count": 5,
     "metadata": {},
     "output_type": "execute_result"
    }
   ],
   "source": [
    "df.describe()"
   ]
  },
  {
   "cell_type": "markdown",
   "id": "e8bed381",
   "metadata": {},
   "source": [
    "# Categorical Encoding"
   ]
  },
  {
   "cell_type": "code",
   "execution_count": 6,
   "id": "f19cd96c",
   "metadata": {},
   "outputs": [],
   "source": [
    "dfx = df.copy()\n",
    "\n",
    "# Creating a list for categorical and numerical column names\n",
    "cat = []\n",
    "num = []\n",
    "\n",
    "for n,d in dfx.items():\n",
    "    if d.dtype == 'object':\n",
    "        cat.append(n)\n",
    "    else:\n",
    "        num.append(n)\n",
    "\n",
    "dfx = df.copy()\n",
    "\n",
    "# Transform Categorical columns\n",
    "le = LabelEncoder()\n",
    "\n",
    "for i in cat:\n",
    "    dfx[i] = le.fit_transform(dfx[i])\n",
    "\n",
    "# Transform numerical columns\n",
    "ss = StandardScaler()\n",
    "\n",
    "for i in num:\n",
    "    dfx[i] = ss.fit_transform(dfx[[i]])\n",
    "    \n"
   ]
  },
  {
   "cell_type": "markdown",
   "id": "022a9e34",
   "metadata": {},
   "source": [
    "## Finding Columns that most correlated with price "
   ]
  },
  {
   "cell_type": "code",
   "execution_count": 7,
   "id": "55d4653c",
   "metadata": {},
   "outputs": [
    {
     "data": {
      "image/png": "[encoded data removed]",
      "text/plain": [
       "<Figure size 1224x504 with 2 Axes>"
      ]
     },
     "metadata": {
      "needs_background": "light"
     },
     "output_type": "display_data"
    }
   ],
   "source": [
    "import matplotlib.pyplot as plt\n",
    "import seaborn as sns\n",
    "    \n",
    "corr= dfx.corr()\n",
    "matrix = np.triu(corr)\n",
    "plt.figure(figsize = (17,7))\n",
    "sns.heatmap(corr, annot=True, mask=matrix, fmt = \".2f\", cmap = 'inferno');"
   ]
  },
  {
   "cell_type": "code",
   "execution_count": 8,
   "id": "209aade3",
   "metadata": {},
   "outputs": [
    {
     "data": {
      "text/plain": [
       "price               1.000000\n",
       "enginesize          0.874145\n",
       "curbweight          0.835305\n",
       "horsepower          0.808139\n",
       "carwidth            0.759325\n",
       "highwaympg          0.697599\n",
       "citympg             0.685751\n",
       "carlength           0.682920\n",
       "drivewheel          0.577992\n",
       "wheelbase           0.577816\n",
       "boreratio           0.553173\n",
       "fuelsystem          0.526823\n",
       "enginelocation      0.324973\n",
       "CarName             0.231439\n",
       "aspiration          0.177926\n",
       "carheight           0.119336\n",
       "car_ID              0.109093\n",
       "fueltype            0.105679\n",
       "peakrpm             0.085267\n",
       "carbody             0.083976\n",
       "symboling           0.079978\n",
       "stroke              0.079443\n",
       "compressionratio    0.067984\n",
       "enginetype          0.049171\n",
       "doornumber          0.031835\n",
       "cylindernumber      0.027628\n",
       "Name: price, dtype: float64"
      ]
     },
     "execution_count": 8,
     "metadata": {},
     "output_type": "execute_result"
    }
   ],
   "source": [
    "abs(corr['price']).sort_values(ascending = False)"
   ]
  },
  {
   "cell_type": "markdown",
   "id": "7726fe01",
   "metadata": {},
   "source": [
    "# Feature selection "
   ]
  },
  {
   "cell_type": "code",
   "execution_count": 9,
   "id": "03e471b5",
   "metadata": {},
   "outputs": [],
   "source": [
    "columns = ['enginesize','curbweight','horsepower','carwidth','highwaympg','citympg','carlength','drivewheel','wheelbase','boreratio',\n",
    "          'fuelsystem']\n",
    "X = dfx[columns]\n",
    "Y = dfx['price']"
   ]
  },
  {
   "cell_type": "code",
   "execution_count": 10,
   "id": "b674e0f9",
   "metadata": {
    "scrolled": true
   },
   "outputs": [
    {
     "data": {
      "text/html": [
       "<div>\n",
       "<style scoped>\n",
       "    .dataframe tbody tr th:only-of-type {\n",
       "        vertical-align: middle;\n",
       "    }\n",
       "\n",
       "    .dataframe tbody tr th {\n",
       "        vertical-align: top;\n",
       "    }\n",
       "\n",
       "    .dataframe thead th {\n",
       "        text-align: right;\n",
       "    }\n",
       "</style>\n",
       "<table border=\"1\" class=\"dataframe\">\n",
       "  <thead>\n",
       "    <tr style=\"text-align: right;\">\n",
       "      <th></th>\n",
       "      <th>enginesize</th>\n",
       "      <th>curbweight</th>\n",
       "      <th>horsepower</th>\n",
       "      <th>carwidth</th>\n",
       "      <th>highwaympg</th>\n",
       "      <th>citympg</th>\n",
       "      <th>carlength</th>\n",
       "      <th>drivewheel</th>\n",
       "      <th>wheelbase</th>\n",
       "      <th>boreratio</th>\n",
       "      <th>fuelsystem</th>\n",
       "    </tr>\n",
       "  </thead>\n",
       "  <tbody>\n",
       "    <tr>\n",
       "      <th>0</th>\n",
       "      <td>0.074449</td>\n",
       "      <td>-0.014566</td>\n",
       "      <td>0.174483</td>\n",
       "      <td>-0.844782</td>\n",
       "      <td>-0.546059</td>\n",
       "      <td>-0.646553</td>\n",
       "      <td>-0.426521</td>\n",
       "      <td>2</td>\n",
       "      <td>-1.690772</td>\n",
       "      <td>0.519071</td>\n",
       "      <td>5</td>\n",
       "    </tr>\n",
       "    <tr>\n",
       "      <th>1</th>\n",
       "      <td>0.074449</td>\n",
       "      <td>-0.014566</td>\n",
       "      <td>0.174483</td>\n",
       "      <td>-0.844782</td>\n",
       "      <td>-0.546059</td>\n",
       "      <td>-0.646553</td>\n",
       "      <td>-0.426521</td>\n",
       "      <td>2</td>\n",
       "      <td>-1.690772</td>\n",
       "      <td>0.519071</td>\n",
       "      <td>5</td>\n",
       "    </tr>\n",
       "    <tr>\n",
       "      <th>2</th>\n",
       "      <td>0.604046</td>\n",
       "      <td>0.514882</td>\n",
       "      <td>1.264536</td>\n",
       "      <td>-0.190566</td>\n",
       "      <td>-0.691627</td>\n",
       "      <td>-0.953012</td>\n",
       "      <td>-0.231513</td>\n",
       "      <td>2</td>\n",
       "      <td>-0.708596</td>\n",
       "      <td>-2.404880</td>\n",
       "      <td>5</td>\n",
       "    </tr>\n",
       "    <tr>\n",
       "      <th>3</th>\n",
       "      <td>-0.431076</td>\n",
       "      <td>-0.420797</td>\n",
       "      <td>-0.053668</td>\n",
       "      <td>0.136542</td>\n",
       "      <td>-0.109354</td>\n",
       "      <td>-0.186865</td>\n",
       "      <td>0.207256</td>\n",
       "      <td>1</td>\n",
       "      <td>0.173698</td>\n",
       "      <td>-0.517266</td>\n",
       "      <td>5</td>\n",
       "    </tr>\n",
       "    <tr>\n",
       "      <th>4</th>\n",
       "      <td>0.218885</td>\n",
       "      <td>0.516807</td>\n",
       "      <td>0.275883</td>\n",
       "      <td>0.230001</td>\n",
       "      <td>-1.273900</td>\n",
       "      <td>-1.106241</td>\n",
       "      <td>0.207256</td>\n",
       "      <td>0</td>\n",
       "      <td>0.107110</td>\n",
       "      <td>-0.517266</td>\n",
       "      <td>5</td>\n",
       "    </tr>\n",
       "    <tr>\n",
       "      <th>...</th>\n",
       "      <td>...</td>\n",
       "      <td>...</td>\n",
       "      <td>...</td>\n",
       "      <td>...</td>\n",
       "      <td>...</td>\n",
       "      <td>...</td>\n",
       "      <td>...</td>\n",
       "      <td>...</td>\n",
       "      <td>...</td>\n",
       "      <td>...</td>\n",
       "      <td>...</td>\n",
       "    </tr>\n",
       "    <tr>\n",
       "      <th>200</th>\n",
       "      <td>0.339248</td>\n",
       "      <td>0.763241</td>\n",
       "      <td>0.250533</td>\n",
       "      <td>1.398245</td>\n",
       "      <td>-0.400490</td>\n",
       "      <td>-0.340094</td>\n",
       "      <td>1.198549</td>\n",
       "      <td>2</td>\n",
       "      <td>1.721873</td>\n",
       "      <td>1.666445</td>\n",
       "      <td>5</td>\n",
       "    </tr>\n",
       "    <tr>\n",
       "      <th>201</th>\n",
       "      <td>0.339248</td>\n",
       "      <td>0.949992</td>\n",
       "      <td>1.416637</td>\n",
       "      <td>1.351515</td>\n",
       "      <td>-0.837195</td>\n",
       "      <td>-0.953012</td>\n",
       "      <td>1.198549</td>\n",
       "      <td>2</td>\n",
       "      <td>1.721873</td>\n",
       "      <td>1.666445</td>\n",
       "      <td>5</td>\n",
       "    </tr>\n",
       "    <tr>\n",
       "      <th>202</th>\n",
       "      <td>1.109571</td>\n",
       "      <td>0.878757</td>\n",
       "      <td>0.757535</td>\n",
       "      <td>1.398245</td>\n",
       "      <td>-1.128332</td>\n",
       "      <td>-1.106241</td>\n",
       "      <td>1.198549</td>\n",
       "      <td>2</td>\n",
       "      <td>1.721873</td>\n",
       "      <td>0.926204</td>\n",
       "      <td>5</td>\n",
       "    </tr>\n",
       "    <tr>\n",
       "      <th>203</th>\n",
       "      <td>0.435538</td>\n",
       "      <td>1.273437</td>\n",
       "      <td>0.047732</td>\n",
       "      <td>1.398245</td>\n",
       "      <td>-0.546059</td>\n",
       "      <td>0.119594</td>\n",
       "      <td>1.198549</td>\n",
       "      <td>2</td>\n",
       "      <td>1.721873</td>\n",
       "      <td>-1.183483</td>\n",
       "      <td>3</td>\n",
       "    </tr>\n",
       "    <tr>\n",
       "      <th>204</th>\n",
       "      <td>0.339248</td>\n",
       "      <td>0.975021</td>\n",
       "      <td>0.250533</td>\n",
       "      <td>1.398245</td>\n",
       "      <td>-0.837195</td>\n",
       "      <td>-0.953012</td>\n",
       "      <td>1.198549</td>\n",
       "      <td>2</td>\n",
       "      <td>1.721873</td>\n",
       "      <td>1.666445</td>\n",
       "      <td>5</td>\n",
       "    </tr>\n",
       "  </tbody>\n",
       "</table>\n",
       "<p>205 rows × 11 columns</p>\n",
       "</div>"
      ],
      "text/plain": [
       "     enginesize  curbweight  horsepower  carwidth  highwaympg   citympg   \n",
       "0      0.074449   -0.014566    0.174483 -0.844782   -0.546059 -0.646553  \\\n",
       "1      0.074449   -0.014566    0.174483 -0.844782   -0.546059 -0.646553   \n",
       "2      0.604046    0.514882    1.264536 -0.190566   -0.691627 -0.953012   \n",
       "3     -0.431076   -0.420797   -0.053668  0.136542   -0.109354 -0.186865   \n",
       "4      0.218885    0.516807    0.275883  0.230001   -1.273900 -1.106241   \n",
       "..          ...         ...         ...       ...         ...       ...   \n",
       "200    0.339248    0.763241    0.250533  1.398245   -0.400490 -0.340094   \n",
       "201    0.339248    0.949992    1.416637  1.351515   -0.837195 -0.953012   \n",
       "202    1.109571    0.878757    0.757535  1.398245   -1.128332 -1.106241   \n",
       "203    0.435538    1.273437    0.047732  1.398245   -0.546059  0.119594   \n",
       "204    0.339248    0.975021    0.250533  1.398245   -0.837195 -0.953012   \n",
       "\n",
       "     carlength  drivewheel  wheelbase  boreratio  fuelsystem  \n",
       "0    -0.426521           2  -1.690772   0.519071           5  \n",
       "1    -0.426521           2  -1.690772   0.519071           5  \n",
       "2    -0.231513           2  -0.708596  -2.404880           5  \n",
       "3     0.207256           1   0.173698  -0.517266           5  \n",
       "4     0.207256           0   0.107110  -0.517266           5  \n",
       "..         ...         ...        ...        ...         ...  \n",
       "200   1.198549           2   1.721873   1.666445           5  \n",
       "201   1.198549           2   1.721873   1.666445           5  \n",
       "202   1.198549           2   1.721873   0.926204           5  \n",
       "203   1.198549           2   1.721873  -1.183483           3  \n",
       "204   1.198549           2   1.721873   1.666445           5  \n",
       "\n",
       "[205 rows x 11 columns]"
      ]
     },
     "execution_count": 10,
     "metadata": {},
     "output_type": "execute_result"
    }
   ],
   "source": [
    "X"
   ]
  },
  {
   "cell_type": "markdown",
   "id": "bd5dc3b0",
   "metadata": {},
   "source": [
    "## Splitting Data between Train and Test"
   ]
  },
  {
   "cell_type": "code",
   "execution_count": 11,
   "id": "630d11db",
   "metadata": {},
   "outputs": [],
   "source": [
    "from sklearn.model_selection import train_test_split, cross_validate\n",
    "x_train,x_test,y_train,y_test = train_test_split(X,Y,test_size=0.3)"
   ]
  },
  {
   "cell_type": "markdown",
   "id": "88717f91",
   "metadata": {},
   "source": [
    "# Model Building "
   ]
  },
  {
   "cell_type": "code",
   "execution_count": 12,
   "id": "99be232c",
   "metadata": {},
   "outputs": [],
   "source": [
    "cv_score = []\n",
    "mae = []\n",
    "r_score = []\n",
    "def model(model):\n",
    "    mod = model.fit(x_train,y_train)\n",
    "    y_pred = model.predict(x_test)\n",
    "    CV_score = np.mean(cross_val_score(mod,X,Y,cv=5))*100\n",
    "    cv_score.append(CV_score)\n",
    "    m = mean_absolute_error(y_test,y_pred)*100\n",
    "    r_scr = r2_score(y_test,y_pred)*100\n",
    "    r_score.append(r_scr)\n",
    "    mae.append(m)\n",
    "    print(f'MAE of {model}: {m}')\n",
    "    print(f'Cross validation score of {model}: {CV_score}')\n",
    "    print(f'R^2 score of {model}: {r_scr}')\n",
    "    "
   ]
  },
  {
   "cell_type": "markdown",
   "id": "aa93ed1b",
   "metadata": {},
   "source": [
    "# Checking Different models for maximum accuracy "
   ]
  },
  {
   "cell_type": "markdown",
   "id": "839b2bfd",
   "metadata": {},
   "source": [
    "## LInearRegression"
   ]
  },
  {
   "cell_type": "code",
   "execution_count": 29,
   "id": "bdc624fb",
   "metadata": {},
   "outputs": [
    {
     "name": "stdout",
     "output_type": "stream",
     "text": [
      "MAE of LinearRegression(): 34.425530818790484\n",
      "Cross validation score of LinearRegression(): 48.22068480592832\n",
      "R^2 score of LinearRegression(): 79.05606915519907\n"
     ]
    }
   ],
   "source": [
    "LR = model(LR)"
   ]
  },
  {
   "cell_type": "markdown",
   "id": "5ffc8fee",
   "metadata": {},
   "source": [
    "##  Ridge\n"
   ]
  },
  {
   "cell_type": "code",
   "execution_count": 30,
   "id": "991fe4b8",
   "metadata": {},
   "outputs": [
    {
     "name": "stdout",
     "output_type": "stream",
     "text": [
      "MAE of Ridge(alpha=0.1): 34.367876032343474\n",
      "Cross validation score of Ridge(alpha=0.1): 48.336456042964066\n",
      "R^2 score of Ridge(alpha=0.1): 79.13096357100831\n"
     ]
    }
   ],
   "source": [
    "mod = Ridge(alpha=0.1)\n",
    "ridge = model(mod)"
   ]
  },
  {
   "cell_type": "markdown",
   "id": "f88ce1f5",
   "metadata": {},
   "source": [
    "## DecisionTreeRegressor"
   ]
  },
  {
   "cell_type": "code",
   "execution_count": 31,
   "id": "b52ee428",
   "metadata": {},
   "outputs": [
    {
     "name": "stdout",
     "output_type": "stream",
     "text": [
      "MAE of DecisionTreeRegressor(): 28.52311281447649\n",
      "Cross validation score of DecisionTreeRegressor(): 13.483225505074117\n",
      "R^2 score of DecisionTreeRegressor(): 81.50278944036293\n"
     ]
    }
   ],
   "source": [
    "DTR =model(DecisionTreeRegressor())"
   ]
  },
  {
   "cell_type": "markdown",
   "id": "708df16f",
   "metadata": {},
   "source": [
    "## XGBRegressor"
   ]
  },
  {
   "cell_type": "code",
   "execution_count": 32,
   "id": "f0a36494",
   "metadata": {},
   "outputs": [
    {
     "name": "stdout",
     "output_type": "stream",
     "text": [
      "MAE of XGBRegressor(base_score=0.5, booster='gbtree', callbacks=None,\n",
      "             colsample_bylevel=1, colsample_bynode=1, colsample_bytree=1,\n",
      "             early_stopping_rounds=None, enable_categorical=False,\n",
      "             eval_metric=None, gamma=0, gpu_id=-1, grow_policy='depthwise',\n",
      "             importance_type=None, interaction_constraints='',\n",
      "             learning_rate=0.300000012, max_bin=256, max_cat_to_onehot=4,\n",
      "             max_delta_step=0, max_depth=6, max_leaves=0, min_child_weight=1,\n",
      "             missing=nan, monotone_constraints='()', n_estimators=100, n_jobs=0,\n",
      "             num_parallel_tree=1, predictor='auto', random_state=0, reg_alpha=0,\n",
      "             reg_lambda=1, ...): 23.144388703000228\n",
      "Cross validation score of XGBRegressor(base_score=0.5, booster='gbtree', callbacks=None,\n",
      "             colsample_bylevel=1, colsample_bynode=1, colsample_bytree=1,\n",
      "             early_stopping_rounds=None, enable_categorical=False,\n",
      "             eval_metric=None, gamma=0, gpu_id=-1, grow_policy='depthwise',\n",
      "             importance_type=None, interaction_constraints='',\n",
      "             learning_rate=0.300000012, max_bin=256, max_cat_to_onehot=4,\n",
      "             max_delta_step=0, max_depth=6, max_leaves=0, min_child_weight=1,\n",
      "             missing=nan, monotone_constraints='()', n_estimators=100, n_jobs=0,\n",
      "             num_parallel_tree=1, predictor='auto', random_state=0, reg_alpha=0,\n",
      "             reg_lambda=1, ...): 39.53070101050559\n",
      "R^2 score of XGBRegressor(base_score=0.5, booster='gbtree', callbacks=None,\n",
      "             colsample_bylevel=1, colsample_bynode=1, colsample_bytree=1,\n",
      "             early_stopping_rounds=None, enable_categorical=False,\n",
      "             eval_metric=None, gamma=0, gpu_id=-1, grow_policy='depthwise',\n",
      "             importance_type=None, interaction_constraints='',\n",
      "             learning_rate=0.300000012, max_bin=256, max_cat_to_onehot=4,\n",
      "             max_delta_step=0, max_depth=6, max_leaves=0, min_child_weight=1,\n",
      "             missing=nan, monotone_constraints='()', n_estimators=100, n_jobs=0,\n",
      "             num_parallel_tree=1, predictor='auto', random_state=0, reg_alpha=0,\n",
      "             reg_lambda=1, ...): 89.24850425973867\n"
     ]
    }
   ],
   "source": [
    "mod = XGBRegressor()\n",
    "xgb =model(mod)"
   ]
  },
  {
   "cell_type": "markdown",
   "id": "b84c6de2",
   "metadata": {},
   "source": [
    "## GradientBoostingRegressor\n"
   ]
  },
  {
   "cell_type": "code",
   "execution_count": 33,
   "id": "16862f67",
   "metadata": {},
   "outputs": [
    {
     "name": "stdout",
     "output_type": "stream",
     "text": [
      "MAE of GradientBoostingRegressor(): 24.191518465080172\n",
      "Cross validation score of GradientBoostingRegressor(): 49.5110969443166\n",
      "R^2 score of GradientBoostingRegressor(): 89.54344735622372\n"
     ]
    }
   ],
   "source": [
    "gbd = model(GradientBoostingRegressor(learning_rate=0.1))"
   ]
  },
  {
   "cell_type": "markdown",
   "id": "d86c0126",
   "metadata": {},
   "source": [
    "## RandomForestRegressor\n"
   ]
  },
  {
   "cell_type": "code",
   "execution_count": 34,
   "id": "4ce0565c",
   "metadata": {},
   "outputs": [
    {
     "name": "stdout",
     "output_type": "stream",
     "text": [
      "MAE of RandomForestRegressor(): 21.7418518959954\n",
      "Cross validation score of RandomForestRegressor(): 39.046162261281786\n",
      "R^2 score of RandomForestRegressor(): 91.4238114041378\n"
     ]
    }
   ],
   "source": [
    "RF =model(RandomForestRegressor())"
   ]
  },
  {
   "cell_type": "markdown",
   "id": "4acd1905",
   "metadata": {},
   "source": [
    "## LGBMRegressor"
   ]
  },
  {
   "cell_type": "code",
   "execution_count": 35,
   "id": "af6475dd",
   "metadata": {},
   "outputs": [
    {
     "name": "stdout",
     "output_type": "stream",
     "text": [
      "MAE of LGBMRegressor(): 24.98612911079287\n",
      "Cross validation score of LGBMRegressor(): 32.545396727545835\n",
      "R^2 score of LGBMRegressor(): 87.81851391806991\n"
     ]
    }
   ],
   "source": [
    "LGBM =model(LGBMRegressor())"
   ]
  },
  {
   "cell_type": "markdown",
   "id": "8c0a551e",
   "metadata": {},
   "source": [
    "## AdaBoostRegressor"
   ]
  },
  {
   "cell_type": "code",
   "execution_count": 36,
   "id": "43548f79",
   "metadata": {},
   "outputs": [
    {
     "name": "stdout",
     "output_type": "stream",
     "text": [
      "MAE of AdaBoostRegressor(): 23.802205562597553\n",
      "Cross validation score of AdaBoostRegressor(): 42.78513438348178\n",
      "R^2 score of AdaBoostRegressor(): 90.52882439528756\n"
     ]
    }
   ],
   "source": [
    "ABR = model(AdaBoostRegressor())"
   ]
  },
  {
   "cell_type": "code",
   "execution_count": 21,
   "id": "dfdbda72",
   "metadata": {},
   "outputs": [],
   "source": [
    "models = [\"Linear Regression\",'Ridge',\"Decision Tree\",\"XGBoost\",\"Gradient Boost\",\"Random Forest\",\"LGBM\",\"Ada Boost\"]"
   ]
  },
  {
   "cell_type": "code",
   "execution_count": 22,
   "id": "dcf86a0d",
   "metadata": {},
   "outputs": [
    {
     "data": {
      "text/plain": [
       "[48.22068480592832,\n",
       " 48.336456042964066,\n",
       " 0.7658353956480646,\n",
       " 39.53070101050559,\n",
       " 44.46383623161464,\n",
       " 38.933097233845224,\n",
       " 32.545396727545835,\n",
       " 34.89696892582036]"
      ]
     },
     "execution_count": 22,
     "metadata": {},
     "output_type": "execute_result"
    }
   ],
   "source": [
    "cv_score"
   ]
  },
  {
   "cell_type": "code",
   "execution_count": 23,
   "id": "bc61b7f6",
   "metadata": {},
   "outputs": [
    {
     "data": {
      "text/plain": [
       "[79.05606915519907,\n",
       " 79.13096357100831,\n",
       " 80.58989105408212,\n",
       " 89.24850425973867,\n",
       " 89.98150405355948,\n",
       " 91.9893072121779,\n",
       " 87.81851391806991,\n",
       " 90.0284497886985]"
      ]
     },
     "execution_count": 23,
     "metadata": {},
     "output_type": "execute_result"
    }
   ],
   "source": [
    "r_score"
   ]
  },
  {
   "cell_type": "code",
   "execution_count": 24,
   "id": "c13510ab",
   "metadata": {},
   "outputs": [
    {
     "data": {
      "text/plain": [
       "[34.425530818790484,\n",
       " 34.367876032343474,\n",
       " 28.686237919959385,\n",
       " 23.144388703000228,\n",
       " 23.743872312531806,\n",
       " 20.860402652804737,\n",
       " 24.98612911079287,\n",
       " 24.471244131213325]"
      ]
     },
     "execution_count": 24,
     "metadata": {},
     "output_type": "execute_result"
    }
   ],
   "source": [
    "mae"
   ]
  },
  {
   "cell_type": "markdown",
   "id": "28ffcba1",
   "metadata": {},
   "source": [
    "# Plot Performance of Different Models"
   ]
  },
  {
   "cell_type": "code",
   "execution_count": 25,
   "id": "82af20f6",
   "metadata": {},
   "outputs": [],
   "source": [
    "df = pd.DataFrame({\"Algorithms\":models,\n",
    "                   \"Model score\":r_score,\n",
    "                   \"MAE\":mae})"
   ]
  },
  {
   "cell_type": "code",
   "execution_count": 27,
   "id": "117cb678",
   "metadata": {},
   "outputs": [
    {
     "data": {
      "image/png": "[encoded data removed]",
      "text/plain": [
       "<Figure size 1152x432 with 1 Axes>"
      ]
     },
     "metadata": {
      "needs_background": "light"
     },
     "output_type": "display_data"
    }
   ],
   "source": [
    "df.plot(x=\"Algorithms\",y=[\"Model score\",\"MAE\"], figsize=(16,6),kind=\"bar\",\n",
    "        title=\"Performance Visualization of Different Models\",colormap=\"Set2\")\n",
    "plt.show()"
   ]
  },
  {
   "cell_type": "markdown",
   "id": "203a35f3",
   "metadata": {},
   "source": [
    "## Insights: \n",
    "As we can see Ada Boost and Gradient Boost is better alforithims with less MAE"
   ]
  },
  {
   "cell_type": "code",
   "execution_count": 42,
   "id": "984c58c2",
   "metadata": {},
   "outputs": [],
   "source": [
    "def inp(i):\n",
    "    mod = AdaBoostRegressor()\n",
    "    mod.fit(X,Y)\n",
    "    return mod.predict(i)[0]\n"
   ]
  },
  {
   "cell_type": "markdown",
   "id": "26c8d250",
   "metadata": {},
   "source": [
    "# Working"
   ]
  },
  {
   "cell_type": "code",
   "execution_count": 43,
   "id": "b3f0387c",
   "metadata": {},
   "outputs": [
    {
     "name": "stderr",
     "output_type": "stream",
     "text": [
      "c:\\users\\dheeraj chouhan\\appdata\\local\\programs\\python\\python39\\lib\\site-packages\\sklearn\\base.py:450: UserWarning: X does not have valid feature names, but AdaBoostRegressor was fitted with feature names\n",
      "  warnings.warn(\n"
     ]
    },
    {
     "data": {
      "text/plain": [
       "0.10986866048709154"
      ]
     },
     "execution_count": 43,
     "metadata": {},
     "output_type": "execute_result"
    }
   ],
   "source": [
    "i = [[0.074449,-0.01456,0.17448,-0.84478,-0.546059,-0.646553,-0.426521,2,-1.690772,0.51907,5]]\n",
    "inp(i)"
   ]
  },
  {
   "cell_type": "code",
   "execution_count": null,
   "id": "0a0cc3eb",
   "metadata": {},
   "outputs": [],
   "source": []
  }
 ],
 "metadata": {
  "kernelspec": {
   "display_name": "Python 3 (ipykernel)",
   "language": "python",
   "name": "python3"
  },
  "language_info": {
   "codemirror_mode": {
    "name": "ipython",
    "version": 3
   },
   "file_extension": ".py",
   "mimetype": "text/x-python",
   "name": "python",
   "nbconvert_exporter": "python",
   "pygments_lexer": "ipython3",
   "version": "3.9.4"
  }
 },
 "nbformat": 4,
 "nbformat_minor": 5
}
